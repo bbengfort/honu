{
 "cells": [
  {
   "cell_type": "code",
   "execution_count": 1,
   "metadata": {
    "collapsed": true
   },
   "outputs": [],
   "source": [
    "import os \n",
    "import json"
   ]
  },
  {
   "cell_type": "code",
   "execution_count": 17,
   "metadata": {
    "collapsed": true
   },
   "outputs": [],
   "source": [
    "hostmap = {\n",
    "    u'minecraft.willz.org:3264': 'antigua',\n",
    "    u'73.223.113.112:3264': 'curacao', \n",
    "    u'hyperion.cs.umd.edu:3264': 'hyperion', \n",
    "    u'nevis.cs.umd.edu:3264': 'nevis',\n",
    "    u'lagoon.cs.umd.edu:3264': 'lagoon',\n",
    "}\n",
    "\n",
    "\n",
    "def load_data(path=\".\"):\n",
    "    for local in os.listdir(path):\n",
    "        # Ignore hidden directories and files \n",
    "        if local.startswith(\".\"): continue \n",
    "        if not os.path.isdir(local): continue\n",
    "        \n",
    "        # Find the path to the results file \n",
    "        results = os.path.join(local, \"results.jsonl\")\n",
    "    \n",
    "        # Read results and parse json lines\n",
    "        with open(results, 'r') as f:\n",
    "            for line in f:\n",
    "                data = json.loads(line)\n",
    "                data[u'localhost'] = local \n",
    "                \n",
    "                for key in data[u'syncs'].keys():\n",
    "                    data[u'syncs'][hostmap[key]] = data[u'syncs'].pop(key)\n",
    "                \n",
    "                yield data"
   ]
  },
  {
   "cell_type": "code",
   "execution_count": 18,
   "metadata": {},
   "outputs": [],
   "source": [
    "data = next(load_data())"
   ]
  },
  {
   "cell_type": "code",
   "execution_count": 19,
   "metadata": {},
   "outputs": [
    {
     "data": {
      "text/plain": [
       "{u'bandit': {u'counts': [0, 0, 0, 0],\n",
       "  u'strategy': u'uniform selection',\n",
       "  u'values': [0, 0, 0, 0]},\n",
       " u'duration': 0,\n",
       " u'finished': u'0001-01-01T00:00:00Z',\n",
       " u'localhost': 'antigua',\n",
       " u'nkeys': 0,\n",
       " u'reads': 0,\n",
       " u'started': u'0001-01-01T00:00:00Z',\n",
       " u'store': u'linearizable',\n",
       " u'syncs': {'curacao': {u'Misses': 24,\n",
       "   u'Pulls': 0,\n",
       "   u'Pushes': 0,\n",
       "   u'Syncs': 0,\n",
       "   u'Versions': 0},\n",
       "  'hyperion': {u'Misses': 20,\n",
       "   u'Pulls': 0,\n",
       "   u'Pushes': 0,\n",
       "   u'Syncs': 0,\n",
       "   u'Versions': 0},\n",
       "  'lagoon': {u'Misses': 25,\n",
       "   u'Pulls': 0,\n",
       "   u'Pushes': 0,\n",
       "   u'Syncs': 0,\n",
       "   u'Versions': 0},\n",
       "  'nevis': {u'Misses': 21,\n",
       "   u'Pulls': 0,\n",
       "   u'Pushes': 0,\n",
       "   u'Syncs': 0,\n",
       "   u'Versions': 0}},\n",
       " u'throughput': 0,\n",
       " u'timestamp': u'2017-06-30T15:19:18.114400725-04:00',\n",
       " u'writes': 0}"
      ]
     },
     "execution_count": 19,
     "metadata": {},
     "output_type": "execute_result"
    }
   ],
   "source": [
    "data"
   ]
  }
 ],
 "metadata": {
  "kernelspec": {
   "display_name": "Python 2",
   "language": "python",
   "name": "python2"
  },
  "language_info": {
   "codemirror_mode": {
    "name": "ipython",
    "version": 2
   },
   "file_extension": ".py",
   "mimetype": "text/x-python",
   "name": "python",
   "nbconvert_exporter": "python",
   "pygments_lexer": "ipython2",
   "version": "2.7.13"
  }
 },
 "nbformat": 4,
 "nbformat_minor": 2
}
